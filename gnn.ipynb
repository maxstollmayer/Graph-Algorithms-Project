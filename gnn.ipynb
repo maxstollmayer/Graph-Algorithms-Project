{
 "cells": [
  {
   "cell_type": "markdown",
   "metadata": {},
   "source": [
    "Model Ideas\n",
    "\n",
    "Encoders:\n",
    "- Attentation based encoder that includes edge weights, see https://arxiv.org/abs/1803.08475 and https://arxiv.org/abs/2006.07054 or use an EdgeGAT convolutional layer\n",
    "- Message Passing that includes edge weights, see https://docs.dgl.ai/guide/training-eweight.html#guide-training-eweight\n",
    "- GIN convolutional layer\n",
    "\n",
    "Decoders:\n",
    "- just beam search?\n",
    "- RNN with masking\n",
    "- just a fully connected decoder with some special loss?\n",
    "- n x n output probabilities for each row -> argmax & cross entropy loss"
   ]
  },
  {
   "cell_type": "code",
   "execution_count": 234,
   "metadata": {},
   "outputs": [],
   "source": [
    "import os\n",
    "os.environ[\"DGLBACKEND\"] = \"pytorch\"\n",
    "\n",
    "import dgl\n",
    "from dgl.dataloading import GraphDataLoader\n",
    "import torch\n",
    "\n",
    "from utils import BookDataset, load_dgl_graph, ATTR"
   ]
  },
  {
   "cell_type": "code",
   "execution_count": 235,
   "metadata": {},
   "outputs": [],
   "source": [
    "# config\n",
    "BATCH_SIZE = 1\n",
    "EPOCHS = 10"
   ]
  },
  {
   "cell_type": "code",
   "execution_count": 236,
   "metadata": {},
   "outputs": [],
   "source": [
    "# generate Cain's Jawbone graph\n",
    "cains_jawbone_graph = load_dgl_graph(\"Cain's Jawbone\")\n",
    "\n",
    "# generate test graph\n",
    "test_graph = load_dgl_graph(\"The Alchemist\")"
   ]
  },
  {
   "cell_type": "code",
   "execution_count": 237,
   "metadata": {},
   "outputs": [
    {
     "name": "stdout",
     "output_type": "stream",
     "text": [
      "number of graphs in dataset: 270\n"
     ]
    }
   ],
   "source": [
    "# load training dataset\n",
    "dataset = BookDataset()\n",
    "dataloader = GraphDataLoader(dataset, batch_size=BATCH_SIZE, shuffle=True)\n",
    "print(\"number of graphs in dataset:\", len(dataset))"
   ]
  },
  {
   "cell_type": "code",
   "execution_count": 238,
   "metadata": {},
   "outputs": [],
   "source": [
    "# define GNN\n",
    "\n",
    "from dgl.nn import GraphConv\n",
    "from torch.nn import Module, GRU, Linear\n",
    "\n",
    "class Encoder(torch.nn.Module):\n",
    "    def __init__(self, in_dim, hidden_dim):\n",
    "        super(Encoder, self).__init__()\n",
    "        self.conv1 = GraphConv(in_dim, hidden_dim)\n",
    "        self.conv2 = GraphConv(hidden_dim, hidden_dim)\n",
    "\n",
    "    def forward(self, graph):\n",
    "        h = graph.ndata[ATTR]\n",
    "        h = self.conv1(graph, h)\n",
    "        h = torch.relu(h)\n",
    "        h = self.conv2(graph, h)\n",
    "        return h\n",
    "\n",
    "\n",
    "class Decoder(torch.nn.Module):\n",
    "    def __init__(self, in_dim, h_dim, out_dim):\n",
    "        super(Decoder, self).__init__()\n",
    "        self.rnn = GRU(in_dim, h_dim, batch_first=True) # ???\n",
    "        self.fc = Linear(h_dim, out_dim)\n",
    "\n",
    "    def forward(self, graph):\n",
    "        output, _ = self.rnn(graph)\n",
    "        output = self.fc(output[-1])\n",
    "        return output\n",
    "\n",
    "\n",
    "class GNN(torch.nn.Module):\n",
    "    def __init__(self, encoder, decoder):\n",
    "        super(GNN, self).__init__()\n",
    "        self.encoder = encoder\n",
    "        self.decoder = decoder\n",
    "    \n",
    "    def forward(self, graph):\n",
    "        encoded_graph = self.encoder(graph)\n",
    "        output_sequence = self.decoder(encoded_graph)\n",
    "        return output_sequence"
   ]
  },
  {
   "cell_type": "code",
   "execution_count": 31,
   "metadata": {},
   "outputs": [
    {
     "name": "stdout",
     "output_type": "stream",
     "text": [
      "epoch  1/10 | average loss 35.654857133936\n",
      "epoch  2/10 | average loss 26.403730343006277\n",
      "epoch  3/10 | average loss 25.160837025112578\n",
      "epoch  4/10 | average loss 24.992739507887098\n",
      "epoch  5/10 | average loss 24.97010624497025\n",
      "epoch  6/10 | average loss 24.96879214534053\n",
      "epoch  7/10 | average loss 24.970303818031592\n",
      "epoch  8/10 | average loss 24.966229212725604\n",
      "epoch  9/10 | average loss 24.9655877078021\n",
      "epoch 10/10 | average loss 24.9660370932685\n"
     ]
    }
   ],
   "source": [
    "import torch.nn.functional as F\n",
    "import numpy as np\n",
    "\n",
    "# train model\n",
    "encoder = Encoder(3, 32)\n",
    "decoder = Decoder(32, 32, 100)\n",
    "model = GNN(encoder, decoder)\n",
    "optimizer = torch.optim.Adam(model.parameters(), lr=0.01)\n",
    "\n",
    "losses: list[float] = []\n",
    "N = len(dataset)\n",
    "model.train()\n",
    "for epoch in range(EPOCHS):\n",
    "    print(f\"epoch {epoch+1:2}/{EPOCHS}\", end=\" \", flush=True)\n",
    "    for graph, label in dataloader:\n",
    "        pred = model(graph)\n",
    "        loss = F.l1_loss(pred, label.flatten())\n",
    "        losses.append(float(loss))\n",
    "        optimizer.zero_grad()\n",
    "        loss.backward()\n",
    "        optimizer.step()\n",
    "    print(\"| average loss\", np.mean(losses[epoch*N : (epoch+1)*N]), flush=True)"
   ]
  },
  {
   "cell_type": "code",
   "execution_count": 32,
   "metadata": {},
   "outputs": [
    {
     "data": {
      "image/png": "[encoded data removed]",
      "text/plain": [
       "<Figure size 640x480 with 1 Axes>"
      ]
     },
     "metadata": {},
     "output_type": "display_data"
    }
   ],
   "source": [
    "from matplotlib import pyplot as plt\n",
    "\n",
    "plt.plot(range(len(losses)), losses)\n",
    "plt.xlabel(\"iteration\")\n",
    "plt.ylabel(\"L1 loss\")\n",
    "plt.show()"
   ]
  },
  {
   "cell_type": "code",
   "execution_count": 33,
   "metadata": {},
   "outputs": [
    {
     "data": {
      "text/plain": [
       "tensor([52.4609, 50.8413, 50.0900, 54.0558, 52.7221, 51.6681, 45.3450, 51.5755,\n",
       "        53.3538, 52.9872, 50.5524, 47.6117, 44.4633, 50.8524, 43.1352, 42.3877,\n",
       "        43.2519, 43.1549, 54.8876, 44.9554, 45.5215, 50.1122, 46.9809, 47.7933,\n",
       "        50.6142, 52.3843, 53.1873, 52.7543, 50.5943, 51.2885, 47.3579, 50.6045,\n",
       "        47.3962, 54.5694, 55.1804, 53.8726, 48.1419, 54.5705, 52.8205, 45.8781,\n",
       "        47.1536, 50.3197, 48.6535, 46.1151, 43.3680, 46.6679, 44.5827, 45.8537,\n",
       "        49.2845, 53.4110, 49.8005, 53.4422, 49.0388, 47.3575, 50.8821, 50.0679,\n",
       "        47.3519, 51.1579, 51.9387, 50.4062, 46.8735, 55.7091, 47.6670, 53.8732,\n",
       "        50.9005, 50.6234, 46.9174, 53.2347, 52.0242, 48.1357, 54.1895, 54.5886,\n",
       "        49.4320, 52.7421, 50.0861, 46.2733, 48.1008, 38.9976, 52.1231, 47.5226,\n",
       "        54.4857, 47.5661, 46.4144, 47.8421, 45.2028, 51.6481, 52.8365, 49.3830,\n",
       "        46.3553, 48.5815, 49.2805, 52.0584, 48.3732, 45.8524, 46.1681, 47.2618,\n",
       "        53.7312, 48.5841, 49.0312, 49.4642], grad_fn=<AddBackward0>)"
      ]
     },
     "execution_count": 33,
     "metadata": {},
     "output_type": "execute_result"
    }
   ],
   "source": [
    "model(test_graph)"
   ]
  },
  {
   "cell_type": "code",
   "execution_count": 241,
   "metadata": {},
   "outputs": [],
   "source": [
    "from dgl.nn import EdgeGATConv\n",
    "\n",
    "class Encoder(Module):\n",
    "    def __init__(\n",
    "        self,\n",
    "        node_dim,\n",
    "        edge_dim,\n",
    "        out_dim,\n",
    "    ):\n",
    "        super(Encoder, self).__init__()\n",
    "        self.conv = EdgeGATConv(node_dim, edge_dim, out_dim, num_heads=1)\n",
    "\n",
    "    def forward(self, graph):\n",
    "        h = graph.ndata[ATTR].float()\n",
    "        e = graph.edata[ATTR].float().unsqueeze(1)\n",
    "\n",
    "        h = self.conv(graph, h, e)\n",
    "        h = torch.relu(h)\n",
    "\n",
    "        return h.squeeze(1)"
   ]
  },
  {
   "cell_type": "code",
   "execution_count": 242,
   "metadata": {},
   "outputs": [
    {
     "name": "stdout",
     "output_type": "stream",
     "text": [
      "epoch  1/10 | average loss 34.861306275261775\n",
      "epoch  2/10 | average loss 25.91825095989086\n",
      "epoch  3/10 | average loss 25.06667303862395\n",
      "epoch  4/10 | average loss 24.988832325405546\n",
      "epoch  5/10 | average loss 24.98460674992314\n",
      "epoch  6/10 | average loss 24.97833273852313\n",
      "epoch  7/10 | average loss 24.97637058540627\n",
      "epoch  8/10 | average loss 24.97724609375\n",
      "epoch  9/10 | average loss 24.977199130588108\n",
      "epoch 10/10 | average loss 24.977108065287272\n"
     ]
    }
   ],
   "source": [
    "import torch.nn.functional as F\n",
    "import numpy as np\n",
    "\n",
    "# train model\n",
    "encoder = Encoder(3, 1, 32)\n",
    "decoder = Decoder(32, 32, 100)\n",
    "model = GNN(encoder, decoder)\n",
    "optimizer = torch.optim.Adam(model.parameters(), lr=0.01)\n",
    "\n",
    "losses: list[float] = []\n",
    "N = len(dataset)\n",
    "model.train()\n",
    "for epoch in range(EPOCHS):\n",
    "    print(f\"epoch {epoch+1:2}/{EPOCHS}\", end=\" \", flush=True)\n",
    "    for graph, label in dataloader:\n",
    "        pred = model(graph)\n",
    "        loss = F.l1_loss(pred, label.flatten())\n",
    "        losses.append(float(loss))\n",
    "        optimizer.zero_grad()\n",
    "        loss.backward()\n",
    "        optimizer.step()\n",
    "    print(\"| average loss\", np.mean(losses[epoch*N : (epoch+1)*N]), flush=True)"
   ]
  },
  {
   "cell_type": "code",
   "execution_count": 243,
   "metadata": {},
   "outputs": [
    {
     "data": {
      "image/png": "[encoded data removed]",
      "text/plain": [
       "<Figure size 640x480 with 1 Axes>"
      ]
     },
     "metadata": {},
     "output_type": "display_data"
    }
   ],
   "source": [
    "from matplotlib import pyplot as plt\n",
    "\n",
    "plt.plot(range(len(losses)), losses)\n",
    "plt.xlabel(\"iteration\")\n",
    "plt.ylabel(\"L1 loss\")\n",
    "plt.show()"
   ]
  },
  {
   "cell_type": "code",
   "execution_count": 244,
   "metadata": {},
   "outputs": [
    {
     "data": {
      "text/plain": [
       "tensor([52.2186, 51.2284, 49.0802, 53.3603, 52.8856, 51.6049, 46.2518, 51.0997,\n",
       "        54.1512, 51.6254, 49.1824, 48.9065, 45.4849, 51.7172, 42.7291, 42.7410,\n",
       "        44.6053, 41.9614, 54.9394, 44.9661, 46.5371, 48.9267, 46.5086, 46.6157,\n",
       "        48.6586, 51.4569, 53.9036, 54.3837, 49.9309, 50.9372, 46.8219, 50.0466,\n",
       "        48.1047, 54.1291, 55.7733, 53.6167, 48.1981, 52.6050, 52.8285, 45.6378,\n",
       "        47.4173, 49.3500, 49.6206, 47.1890, 44.5101, 47.3097, 46.3907, 45.1906,\n",
       "        50.3326, 53.2454, 51.1304, 52.3412, 48.5645, 47.1492, 52.0904, 49.1135,\n",
       "        46.0177, 51.6748, 51.5068, 49.4862, 45.8718, 56.0367, 47.5422, 54.3236,\n",
       "        52.0021, 52.0258, 46.7214, 51.4860, 51.4077, 48.4435, 54.6482, 55.0122,\n",
       "        50.2606, 52.9027, 51.5695, 44.8478, 49.1141, 41.3654, 51.3702, 49.0147,\n",
       "        52.0044, 46.9554, 47.1161, 47.7680, 47.0354, 50.5647, 53.1304, 49.3376,\n",
       "        46.2150, 49.2288, 50.0583, 52.2996, 48.9476, 46.1624, 46.2656, 47.9918,\n",
       "        53.7692, 47.5660, 49.2975, 47.3799], grad_fn=<AddBackward0>)"
      ]
     },
     "execution_count": 244,
     "metadata": {},
     "output_type": "execute_result"
    }
   ],
   "source": [
    "model(test_graph)"
   ]
  },
  {
   "cell_type": "code",
   "execution_count": 209,
   "metadata": {},
   "outputs": [],
   "source": [
    "from torch.nn import LSTMCell\n",
    "from torch.distributions import Categorical\n",
    "import torch.nn.functional as F\n",
    "\n",
    "class Decoder(Module):\n",
    "    def __init__(self, num_nodes, in_dim, hidden_dim):\n",
    "        super(Decoder, self).__init__()\n",
    "        self.num_nodes = num_nodes\n",
    "        self.hidden_dim = hidden_dim\n",
    "        \n",
    "        self.embedding = Linear(in_dim, hidden_dim)\n",
    "        self.rnn = LSTMCell(hidden_dim, hidden_dim)\n",
    "        self.output_layer = Linear(hidden_dim, num_nodes)\n",
    "\n",
    "    def forward(self, g):\n",
    "        h = torch.zeros(1, self.hidden_dim)\n",
    "        c = torch.zeros(1, self.hidden_dim)\n",
    "        mask = torch.zeros(self.num_nodes)\n",
    "        permutation = torch.zeros(self.num_nodes).long()\n",
    "        rnn_in = F.relu(self.embedding(g)).unsqueeze(1)\n",
    "        \n",
    "        for i in range(self.num_nodes):\n",
    "            # Apply the RNN to get the next node in the permutation\n",
    "            h, c = self.rnn(rnn_in[i], (h, c))\n",
    "            \n",
    "            # Mask out the nodes that are already in the permutation\n",
    "            masked_logits = h.clone()\n",
    "            masked_logits[mask.bool()] = float(\"-inf\")\n",
    "            \n",
    "            # Obtain the next node in the permutation\n",
    "            prob_dist = F.softmax(self.output_layer(masked_logits), dim=1)\n",
    "            print(prob_dist.shape)\n",
    "            m = Categorical(prob_dist)\n",
    "            node_index = m.sample().item()\n",
    "            \n",
    "            # Update the permutation list and the mask\n",
    "            permutation[i] = node_index\n",
    "            mask[node_index] = 1\n",
    "        \n",
    "        return permutation"
   ]
  },
  {
   "cell_type": "code",
   "execution_count": 220,
   "metadata": {},
   "outputs": [],
   "source": [
    "time_steps = 100\n",
    "input_size = 32\n",
    "hidden_size = 100\n",
    "batch_size = 1\n",
    "rnn = LSTMCell(input_size, hidden_size)\n",
    "input = torch.randn(time_steps, batch_size, input_size) # 100 x 1 x 32\n",
    "hx = torch.randn(batch_size, hidden_size) # 1 x 32\n",
    "cx = torch.randn(batch_size, hidden_size) # 1 x 32\n",
    "output = []\n",
    "for i in range(input.size()[0]):\n",
    "    hx, cx = rnn(input[i], (hx, cx))\n",
    "    output.append(hx)\n",
    "output = torch.stack(output, dim=0)"
   ]
  },
  {
   "cell_type": "code",
   "execution_count": 232,
   "metadata": {},
   "outputs": [
    {
     "data": {
      "text/plain": [
       "tensor([4.9251e-01, 1.6419e-02, 1.8261e-03, 7.8758e-03, 5.9249e-03, 9.1233e-03,\n",
       "        2.3637e-02, 6.9310e-03, 2.6712e-03, 2.4755e-03, 1.4298e-02, 2.4829e-03,\n",
       "        6.4960e-03, 1.2257e-02, 5.2710e-03, 6.2635e-03, 1.7770e-02, 1.7021e-02,\n",
       "        8.0875e-03, 1.2196e-02, 2.6306e-02, 1.1596e-02, 4.4684e-03, 8.0524e-03,\n",
       "        4.7243e-03, 1.9022e-03, 6.1433e-03, 5.8272e-03, 4.9013e-03, 4.4614e-03,\n",
       "        5.9036e-03, 5.5514e-03, 2.5760e-03, 2.6419e-03, 3.6054e-03, 1.5827e-03,\n",
       "        3.2813e-03, 5.8304e-03, 4.6453e-03, 1.0317e-03, 2.7099e-03, 2.3108e-03,\n",
       "        1.5989e-03, 1.4130e-03, 4.5947e-03, 2.7017e-03, 8.8688e-04, 1.8835e-03,\n",
       "        8.3974e-03, 3.3406e-03, 1.3706e-03, 3.5570e-04, 7.3376e-04, 1.3108e-03,\n",
       "        4.6286e-03, 2.8243e-03, 5.3306e-03, 1.8447e-03, 1.8525e-03, 1.8676e-03,\n",
       "        4.2985e-03, 5.8323e-03, 1.7019e-02, 3.2559e-03, 3.1985e-03, 1.6030e-03,\n",
       "        3.2754e-03, 6.7202e-03, 6.5118e-03, 6.4497e-03, 3.3620e-03, 1.7130e-03,\n",
       "        8.6244e-04, 6.0415e-04, 1.5006e-03, 1.6944e-03, 9.5683e-04, 1.1697e-03,\n",
       "        3.3295e-03, 1.2906e-03, 2.0193e-03, 8.5521e-03, 7.1109e-03, 4.3687e-03,\n",
       "        1.4125e-02, 3.8352e-03, 4.3164e-03, 1.1276e-03, 1.4830e-03, 9.4808e-04,\n",
       "        1.8478e-03, 4.2620e-03, 6.7756e-03, 1.4530e-03, 9.7284e-03, 3.3142e-03,\n",
       "        4.1887e-03, 1.7622e-03, 1.0230e-03, 4.5868e-03],\n",
       "       grad_fn=<SoftmaxBackward0>)"
      ]
     },
     "execution_count": 232,
     "metadata": {},
     "output_type": "execute_result"
    }
   ],
   "source": [
    "torch.softmax(output.squeeze(1).sum(dim=1), dim=0)"
   ]
  },
  {
   "cell_type": "code",
   "execution_count": 211,
   "metadata": {},
   "outputs": [
    {
     "ename": "IndexError",
     "evalue": "The shape of the mask [100] at index 0 does not match the shape of the indexed tensor [1, 32] at index 0",
     "output_type": "error",
     "traceback": [
      "\u001b[1;31m---------------------------------------------------------------------------\u001b[0m",
      "\u001b[1;31mIndexError\u001b[0m                                Traceback (most recent call last)",
      "Cell \u001b[1;32mIn[211], line 2\u001b[0m\n\u001b[0;32m      1\u001b[0m decoder \u001b[39m=\u001b[39m Decoder(\u001b[39m100\u001b[39m, hidden_dim, hidden_dim)\n\u001b[1;32m----> 2\u001b[0m decoded \u001b[39m=\u001b[39m decoder(encoded)\n",
      "File \u001b[1;32mc:\\Users\\maxst\\Repos\\Graph-Algorithms-Project\\.venv\\Lib\\site-packages\\torch\\nn\\modules\\module.py:1501\u001b[0m, in \u001b[0;36mModule._call_impl\u001b[1;34m(self, *args, **kwargs)\u001b[0m\n\u001b[0;32m   1496\u001b[0m \u001b[39m# If we don't have any hooks, we want to skip the rest of the logic in\u001b[39;00m\n\u001b[0;32m   1497\u001b[0m \u001b[39m# this function, and just call forward.\u001b[39;00m\n\u001b[0;32m   1498\u001b[0m \u001b[39mif\u001b[39;00m \u001b[39mnot\u001b[39;00m (\u001b[39mself\u001b[39m\u001b[39m.\u001b[39m_backward_hooks \u001b[39mor\u001b[39;00m \u001b[39mself\u001b[39m\u001b[39m.\u001b[39m_backward_pre_hooks \u001b[39mor\u001b[39;00m \u001b[39mself\u001b[39m\u001b[39m.\u001b[39m_forward_hooks \u001b[39mor\u001b[39;00m \u001b[39mself\u001b[39m\u001b[39m.\u001b[39m_forward_pre_hooks\n\u001b[0;32m   1499\u001b[0m         \u001b[39mor\u001b[39;00m _global_backward_pre_hooks \u001b[39mor\u001b[39;00m _global_backward_hooks\n\u001b[0;32m   1500\u001b[0m         \u001b[39mor\u001b[39;00m _global_forward_hooks \u001b[39mor\u001b[39;00m _global_forward_pre_hooks):\n\u001b[1;32m-> 1501\u001b[0m     \u001b[39mreturn\u001b[39;00m forward_call(\u001b[39m*\u001b[39;49margs, \u001b[39m*\u001b[39;49m\u001b[39m*\u001b[39;49mkwargs)\n\u001b[0;32m   1502\u001b[0m \u001b[39m# Do not call functions when jit is used\u001b[39;00m\n\u001b[0;32m   1503\u001b[0m full_backward_hooks, non_full_backward_hooks \u001b[39m=\u001b[39m [], []\n",
      "Cell \u001b[1;32mIn[209], line 28\u001b[0m, in \u001b[0;36mDecoder.forward\u001b[1;34m(self, g)\u001b[0m\n\u001b[0;32m     26\u001b[0m \u001b[39m# Mask out the nodes that are already in the permutation\u001b[39;00m\n\u001b[0;32m     27\u001b[0m masked_logits \u001b[39m=\u001b[39m h\u001b[39m.\u001b[39mclone()\n\u001b[1;32m---> 28\u001b[0m masked_logits[mask\u001b[39m.\u001b[39;49mbool()] \u001b[39m=\u001b[39m \u001b[39mfloat\u001b[39m(\u001b[39m\"\u001b[39m\u001b[39m-inf\u001b[39m\u001b[39m\"\u001b[39m)\n\u001b[0;32m     30\u001b[0m \u001b[39m# Obtain the next node in the permutation\u001b[39;00m\n\u001b[0;32m     31\u001b[0m prob_dist \u001b[39m=\u001b[39m F\u001b[39m.\u001b[39msoftmax(\u001b[39mself\u001b[39m\u001b[39m.\u001b[39moutput_layer(masked_logits), dim\u001b[39m=\u001b[39m\u001b[39m1\u001b[39m)\n",
      "\u001b[1;31mIndexError\u001b[0m: The shape of the mask [100] at index 0 does not match the shape of the indexed tensor [1, 32] at index 0"
     ]
    }
   ],
   "source": [
    "decoder = Decoder(100, hidden_dim, hidden_dim)\n",
    "decoded = decoder(encoded)"
   ]
  },
  {
   "cell_type": "code",
   "execution_count": null,
   "metadata": {},
   "outputs": [],
   "source": []
  },
  {
   "cell_type": "code",
   "execution_count": null,
   "metadata": {},
   "outputs": [],
   "source": []
  }
 ],
 "metadata": {
  "kernelspec": {
   "display_name": ".venv",
   "language": "python",
   "name": "python3"
  },
  "language_info": {
   "codemirror_mode": {
    "name": "ipython",
    "version": 3
   },
   "file_extension": ".py",
   "mimetype": "text/x-python",
   "name": "python",
   "nbconvert_exporter": "python",
   "pygments_lexer": "ipython3",
   "version": "3.11.2"
  },
  "orig_nbformat": 4
 },
 "nbformat": 4,
 "nbformat_minor": 2
}
