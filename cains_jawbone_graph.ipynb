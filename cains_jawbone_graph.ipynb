{
 "cells": [
  {
   "cell_type": "code",
   "execution_count": 59,
   "metadata": {},
   "outputs": [],
   "source": [
    "import networkx as nx\n",
    "from nltk import word_tokenize, pos_tag, download\n",
    "from nltk.stem import WordNetLemmatizer\n",
    "from nltk.corpus import stopwords, wordnet\n",
    "import numpy as np\n",
    "from sklearn.feature_extraction.text import TfidfVectorizer\n",
    "from sklearn.metrics import jaccard_score\n",
    "from sklearn.metrics.pairwise import cosine_similarity\n",
    "from matplotlib import pyplot as plt"
   ]
  },
  {
   "cell_type": "code",
   "execution_count": 49,
   "metadata": {},
   "outputs": [
    {
     "name": "stderr",
     "output_type": "stream",
     "text": [
      "[nltk_data] Downloading package wordnet to\n",
      "[nltk_data]     C:\\Users\\maxst\\AppData\\Roaming\\nltk_data...\n",
      "[nltk_data]   Package wordnet is already up-to-date!\n",
      "[nltk_data] Downloading package omw-1.4 to\n",
      "[nltk_data]     C:\\Users\\maxst\\AppData\\Roaming\\nltk_data...\n",
      "[nltk_data]   Package omw-1.4 is already up-to-date!\n",
      "[nltk_data] Downloading package punkt to\n",
      "[nltk_data]     C:\\Users\\maxst\\AppData\\Roaming\\nltk_data...\n",
      "[nltk_data]   Package punkt is already up-to-date!\n",
      "[nltk_data] Downloading package averaged_perceptron_tagger to\n",
      "[nltk_data]     C:\\Users\\maxst\\AppData\\Roaming\\nltk_data...\n",
      "[nltk_data]   Package averaged_perceptron_tagger is already up-to-\n",
      "[nltk_data]       date!\n",
      "[nltk_data] Downloading package stopwords to\n",
      "[nltk_data]     C:\\Users\\maxst\\AppData\\Roaming\\nltk_data...\n",
      "[nltk_data]   Package stopwords is already up-to-date!\n"
     ]
    },
    {
     "data": {
      "text/plain": [
       "True"
      ]
     },
     "execution_count": 49,
     "metadata": {},
     "output_type": "execute_result"
    }
   ],
   "source": [
    "# download relevant nltk datasets\n",
    "download(\"wordnet\")\n",
    "download(\"omw-1.4\")\n",
    "download(\"punkt\")\n",
    "download(\"averaged_perceptron_tagger\")\n",
    "download(\"stopwords\")"
   ]
  },
  {
   "cell_type": "code",
   "execution_count": 50,
   "metadata": {},
   "outputs": [],
   "source": [
    "# load pages\n",
    "with open(\"cains_jawbone.txt\", \"r\", encoding=\"utf-8\") as f:\n",
    "    pages = f.read().split(\"\\n\\n\")"
   ]
  },
  {
   "cell_type": "code",
   "execution_count": 51,
   "metadata": {},
   "outputs": [],
   "source": [
    "# preprocess and tokenize pages\n",
    "lemmatizer = WordNetLemmatizer()\n",
    "stop_words = set(stopwords.words(\"english\"))\n",
    "\n",
    "def get_pos(tag: str) -> str | None:\n",
    "    match tag[0]:\n",
    "        case \"J\":\n",
    "            return wordnet.ADJ\n",
    "        case \"R\":\n",
    "            return wordnet.ADV\n",
    "        case \"N\":\n",
    "            return wordnet.NOUN\n",
    "        case \"V\":\n",
    "            return wordnet.VERB\n",
    "        case _:\n",
    "            return None\n",
    "\n",
    "def preprocess(text: str) -> str:\n",
    "    tokens = [token for token in word_tokenize(text.lower())]\n",
    "    tagged = [(word, get_pos(tag)) for word, tag in pos_tag(tokens)]\n",
    "    lemmatized = [lemmatizer.lemmatize(word, pos=tag) for (word, tag) in tagged if tag is not None]\n",
    "    words = [word for word in lemmatized if len(word) > 2 and word not in stop_words and word.isalpha()]\n",
    "    return \" \".join(words)\n",
    "\n",
    "data = [preprocess(page) for page in pages]"
   ]
  },
  {
   "cell_type": "code",
   "execution_count": 52,
   "metadata": {},
   "outputs": [],
   "source": [
    "# vectorize tokens to frequencies\n",
    "vectorizer = TfidfVectorizer(stop_words=\"english\")\n",
    "freqs = vectorizer.fit_transform(data)"
   ]
  },
  {
   "cell_type": "code",
   "execution_count": 103,
   "metadata": {},
   "outputs": [],
   "source": [
    "# calculate cosine similarities between pages\n",
    "weights = np.zeros((len(pages), len(pages)))\n",
    "stats = []\n",
    "for i in range(len(pages)):\n",
    "    for j in range(len(pages)):\n",
    "        weight = cosine_similarity(freqs[i], freqs[j]).flatten()[0]\n",
    "        weights[i, j] = weight\n",
    "        if i > j:\n",
    "            stats.append(weight)"
   ]
  },
  {
   "cell_type": "code",
   "execution_count": 104,
   "metadata": {},
   "outputs": [],
   "source": [
    "stats = np.array(stats)"
   ]
  },
  {
   "cell_type": "code",
   "execution_count": 105,
   "metadata": {},
   "outputs": [
    {
     "name": "stdout",
     "output_type": "stream",
     "text": [
      "0.0 0.030317195394607487 0.1990180757927755 0.018858754664633194\n"
     ]
    }
   ],
   "source": [
    "print(stats.min(), stats.mean(), stats.max(), stats.std())"
   ]
  },
  {
   "cell_type": "code",
   "execution_count": 121,
   "metadata": {},
   "outputs": [
    {
     "data": {
      "image/png": "[encoded data removed]",
      "text/plain": [
       "<Figure size 640x480 with 1 Axes>"
      ]
     },
     "metadata": {},
     "output_type": "display_data"
    }
   ],
   "source": [
    "plt.hist(stats, bins=100)\n",
    "plt.show()"
   ]
  },
  {
   "cell_type": "code",
   "execution_count": 114,
   "metadata": {},
   "outputs": [],
   "source": [
    "def generate_graph(weights: np.ndarray, threshold: float = 0.03) -> nx.Graph:\n",
    "    n = weights.shape[0]\n",
    "    G = nx.Graph()\n",
    "    G.add_nodes_from(range(n))\n",
    "    for i in range(n):\n",
    "        for j in range(i+1, n):\n",
    "            if weights[i, j] >= threshold:\n",
    "                G.add_edge(i, j)\n",
    "    return G"
   ]
  },
  {
   "cell_type": "code",
   "execution_count": 122,
   "metadata": {},
   "outputs": [],
   "source": [
    "G = generate_graph(weights, 0.05)"
   ]
  },
  {
   "cell_type": "code",
   "execution_count": 123,
   "metadata": {},
   "outputs": [
    {
     "data": {
      "text/plain": [
       "687"
      ]
     },
     "execution_count": 123,
     "metadata": {},
     "output_type": "execute_result"
    }
   ],
   "source": [
    "len(G.edges)"
   ]
  },
  {
   "cell_type": "code",
   "execution_count": 125,
   "metadata": {},
   "outputs": [],
   "source": [
    "def n_communities(G: nx.Graph) -> float:\n",
    "    return len(nx.community.louvain_communities(G))"
   ]
  },
  {
   "cell_type": "code",
   "execution_count": 126,
   "metadata": {},
   "outputs": [
    {
     "data": {
      "text/plain": [
       "8"
      ]
     },
     "execution_count": 126,
     "metadata": {},
     "output_type": "execute_result"
    }
   ],
   "source": [
    "n_communities(G)"
   ]
  },
  {
   "cell_type": "code",
   "execution_count": 130,
   "metadata": {},
   "outputs": [],
   "source": [
    "# or alternatively with whole weighted graph\n",
    "G = nx.complete_graph(len(pages))\n",
    "for (i, j) in G.edges:\n",
    "    G.edges[i, j][\"weight\"] = cosine_similarity(freqs[i], freqs[j]).flatten()[0]\n",
    "\n",
    "comms = nx.community.louvain_communities(G, weight=\"weight\")"
   ]
  },
  {
   "cell_type": "code",
   "execution_count": 137,
   "metadata": {},
   "outputs": [
    {
     "data": {
      "text/plain": [
       "5"
      ]
     },
     "execution_count": 137,
     "metadata": {},
     "output_type": "execute_result"
    }
   ],
   "source": [
    "len(comms)"
   ]
  },
  {
   "attachments": {},
   "cell_type": "markdown",
   "metadata": {},
   "source": [
    "Communities\n",
    "\n",
    "- 15 16 33 42 44 51 77 82 83 97 \n",
    "- 0 6 8 13 14 19 24 27 30 49 50 59 61 81 85 88 94 95 \n",
    "- 1 3 4 10 12 20 37 39 40 41 43 46 48 52 57 60 62 65 67 71 72 75 76 79 84 86 89 92 93 96 99 \n",
    "- 5 11 17 22 23 25 26 29 34 35 36 53 54 55 58 68 70 73 74 80 90 91 98 \n",
    "- 2 7 9 18 21 28 31 32 38 45 47 56 63 64 66 69 78 87 "
   ]
  },
  {
   "attachments": {},
   "cell_type": "markdown",
   "metadata": {},
   "source": [
    "NMF\n",
    "\n",
    "- 19 27 32 39 46 64 65 75 77 80 92\n",
    "- 2 7 9 18 21 38 45 47 56 63 69 78 87\n",
    "- 11 23 26 28 29 35 37 52 53 55 58 68 70 73 74 88 89 98\n",
    "- 1 3 10 13 20 24 25 30 31 34 41 48 57 62 71 76 79 81 84 86 93 96 99\n",
    "- 4 5 12 15 16 17 22 33 40 42 43 44 51 54 60 61 67 72 82 83 91 97\n",
    "- 0 6 8 14 36 49 50 59 66 85 90 94 95"
   ]
  },
  {
   "cell_type": "code",
   "execution_count": 138,
   "metadata": {},
   "outputs": [],
   "source": [
    "# Graph Traversal Algorithm?"
   ]
  },
  {
   "cell_type": "code",
   "execution_count": null,
   "metadata": {},
   "outputs": [],
   "source": []
  }
 ],
 "metadata": {
  "kernelspec": {
   "display_name": ".venv",
   "language": "python",
   "name": "python3"
  },
  "language_info": {
   "codemirror_mode": {
    "name": "ipython",
    "version": 3
   },
   "file_extension": ".py",
   "mimetype": "text/x-python",
   "name": "python",
   "nbconvert_exporter": "python",
   "pygments_lexer": "ipython3",
   "version": "3.11.2"
  },
  "orig_nbformat": 4
 },
 "nbformat": 4,
 "nbformat_minor": 2
}
